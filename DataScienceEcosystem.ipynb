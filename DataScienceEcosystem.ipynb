{
 "cells": [
  {
   "cell_type": "markdown",
   "id": "df63133d-273a-4d35-b444-c14e9c863097",
   "metadata": {},
   "source": [
    "# Data Science Tools and Ecosystem"
   ]
  },
  {
   "cell_type": "markdown",
   "id": "efa08777-79c7-4132-81b6-67198159461b",
   "metadata": {},
   "source": [
    "In this notebook, Data Science Tools and Ecosystem are summarized."
   ]
  },
  {
   "cell_type": "markdown",
   "id": "1268408e-aba1-4588-93ce-14617ca3c94c",
   "metadata": {},
   "source": [
    "**Objectives:**\n",
    "\n",
    "- List popular languages for Data Science in ordered list.\n",
    "- List some commonly used libraries in Data Science in ordered list.\n",
    "- List some commonly used open-source development environment tools for data science in table.\n",
    "- Provide examples of evaluating arithmetic expressions in Python.\n",
    "- Add comments to code cell.\n",
    "- Create markdown cells.\n",
    "- Format content of markdown cells."
   ]
  },
  {
   "cell_type": "markdown",
   "id": "b510966d-7941-4c10-aeba-63d329381179",
   "metadata": {},
   "source": [
    "Some of the popular languages that Data Scientists use are:\n",
    "\n",
    "1. Python\n",
    "2. R\n",
    "3. SQL"
   ]
  },
  {
   "cell_type": "markdown",
   "id": "85505fda-7cdd-4466-a448-ae2837072eac",
   "metadata": {},
   "source": [
    "Some of the commonly used libraries used by Data Scientists include:\n",
    "\n",
    "1. Pandas\n",
    "2. NumPy\n",
    "3. Matplotlib\n",
    "4. PyTorch"
   ]
  },
  {
   "attachments": {},
   "cell_type": "markdown",
   "id": "56653817-ae82-48e8-8761-dbfc979c210b",
   "metadata": {},
   "source": [
    "| Data Science Tools |\r\n",
    "|--------------------|\r\n",
    "Jupyter            | |\r\n",
    "| RStudio            |\r\n",
    "| Spyder             |"
   ]
  },
  {
   "cell_type": "markdown",
   "id": "00f74feb-fee2-46fa-912c-1d4be5b7648d",
   "metadata": {},
   "source": [
    "### Below are a few examples of evaluating arithmetic expressions in Python."
   ]
  },
  {
   "cell_type": "code",
   "execution_count": 13,
   "id": "df634fac-dcbf-4818-9158-0d285f7210d3",
   "metadata": {},
   "outputs": [
    {
     "data": {
      "text/plain": [
       "17"
      ]
     },
     "execution_count": 13,
     "metadata": {},
     "output_type": "execute_result"
    }
   ],
   "source": [
    "# This is a simple arithmetic expression to multiply then add integers\n",
    "(3*4)+5"
   ]
  },
  {
   "cell_type": "code",
   "execution_count": 15,
   "id": "d7fafa10-021f-480d-99ce-389aee6e7b6d",
   "metadata": {},
   "outputs": [
    {
     "data": {
      "text/plain": [
       "3"
      ]
     },
     "execution_count": 15,
     "metadata": {},
     "output_type": "execute_result"
    }
   ],
   "source": [
    "# This will convert 200 minutes to hours by dividing by 60\n",
    "200//60\n"
   ]
  },
  {
   "cell_type": "markdown",
   "id": "63e32ce9-8c2d-465b-9412-24f2e00f13b2",
   "metadata": {},
   "source": [
    "## Author\n",
    "Yixia"
   ]
  }
 ],
 "metadata": {
  "kernelspec": {
   "display_name": "Python 3 (ipykernel)",
   "language": "python",
   "name": "python3"
  },
  "language_info": {
   "codemirror_mode": {
    "name": "ipython",
    "version": 3
   },
   "file_extension": ".py",
   "mimetype": "text/x-python",
   "name": "python",
   "nbconvert_exporter": "python",
   "pygments_lexer": "ipython3",
   "version": "3.11.7"
  }
 },
 "nbformat": 4,
 "nbformat_minor": 5
}
